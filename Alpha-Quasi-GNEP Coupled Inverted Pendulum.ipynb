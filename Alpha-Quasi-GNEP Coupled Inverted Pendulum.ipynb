{
 "cells": [
  {
   "cell_type": "code",
   "execution_count": 1,
   "id": "1ee77252",
   "metadata": {},
   "outputs": [],
   "source": [
    "import numpy as np\n",
    "from scipy.optimize import minimize\n",
    "import matplotlib.pyplot as plt\n",
    "from numpy.linalg import matrix_power\n",
    "import copy"
   ]
  },
  {
   "cell_type": "code",
   "execution_count": 2,
   "id": "4aacd75a",
   "metadata": {},
   "outputs": [],
   "source": [
    "#alpha-quasi-GNEP\n",
    "#linearized coupled inverted pendulum"
   ]
  },
  {
   "cell_type": "code",
   "execution_count": 3,
   "id": "715e919a",
   "metadata": {},
   "outputs": [],
   "source": [
    "#linearized continuous system\n",
    "# theta_1, theta_1',x_1,x_1', theta_2,theta_2', x_2,x_2'\n",
    "g_a=9.81 #gravity\n",
    "k_sp=1 #spring constante\n",
    "d=3   #length of relaxed spring\n",
    "l=1    #length\n",
    "\n",
    "A=np.array([[0,1,0,0,       0,0,0,0],\n",
    "            [g_a/l,0,k_sp/l,0,    0,0,-k_sp/l,0],\n",
    "            [0,0,0,1,       0,0,0,0],\n",
    "            [0,0,-k_sp,0,      0,0,k_sp,0],\n",
    "            [0,0,0,0,       0,1,0,0],\n",
    "            [0,0,-k_sp/l,0,       g_a/l,0,k_sp/l,0],\n",
    "            [0,0,0,0,       0,0,0,1],\n",
    "            [0,0,k_sp,0,       0,0,-k_sp,0]])\n",
    "B=np.array([[0,0],\n",
    "           [-1/l,0],\n",
    "           [0,0],\n",
    "           [1,0],\n",
    "           [0,0],\n",
    "           [0,-1/l],\n",
    "           [0,0],\n",
    "           [0,1]])\n",
    "\n",
    "\n",
    "nx=8 #dimension of state\n",
    "nu=2 #dimension of control (in total)\n",
    "Nu=2 #amount of players\n",
    "sampling_rate=0.1"
   ]
  },
  {
   "cell_type": "code",
   "execution_count": 4,
   "id": "ddd611ce",
   "metadata": {},
   "outputs": [],
   "source": [
    "x_ast=np.array([0.0,0.0,0,0.0, 0.0,0.0,d,0.0]) #stationary state\n",
    "N=20                                           #look-ahead horizon"
   ]
  },
  {
   "cell_type": "code",
   "execution_count": 5,
   "id": "906c3834",
   "metadata": {},
   "outputs": [],
   "source": [
    "#discretize system via RK4\n",
    "steps = 1\n",
    "dt = sampling_rate/steps\n",
    "\n",
    "C= -A@x_ast\n",
    "\n",
    "A_k1 = A\n",
    "B_k1 = B\n",
    "C_k1= C\n",
    "            \n",
    "A_k2 = A + A@A_k1*(dt/2)\n",
    "B_k2 = A@B_k1*(dt/2) + B\n",
    "C_k2=A@C_k1*(dt/2)+C\n",
    "            \n",
    "A_k3 = A + A @ A_k2*(dt/2)\n",
    "B_k3 = A@B_k2*(dt/2) + B\n",
    "C_k3=A@C_k2*(dt/2)+C\n",
    "            \n",
    "A_k4 = A + A @ A_k3 * dt\n",
    "B_k4 = A@B_k3*dt + B\n",
    "C_k4=A@C_k3*(dt)+C\n",
    "            \n",
    "A_rk4 = (A_k1 + A_k2*2 + A_k3*2 + A_k4)*(dt/6)\n",
    "B_rk4 = (B_k1 + B_k2*2 + B_k3*2 + B_k4)*(dt/6)\n",
    "C_rk4 = (C_k1 + C_k2*2 + C_k3*2 + C_k4)*(dt/6)\n",
    "\n",
    "\n",
    "A_cont=A\n",
    "B_cont=B\n",
    "C_cont=C\n",
    "A = np.eye(nx)   \n",
    "B= np.zeros((nx,nu))\n",
    "C=np.zeros(C.shape)\n",
    "for i in range(steps):\n",
    "    C = C+ A@C_rk4\n",
    "    B = B+ A@B_rk4\n",
    "    A = A+ A@A_rk4 "
   ]
  },
  {
   "cell_type": "code",
   "execution_count": 6,
   "id": "15b6af9f",
   "metadata": {},
   "outputs": [],
   "source": [
    "#nonlinear dynamics\n",
    "def f(x,u):\n",
    "    th1=x[1]\n",
    "    th2=x[5]\n",
    "    x1=x[3]\n",
    "    x2=x[7]\n",
    "    \n",
    "    dth1=(g_a/l)*np.sin(x[0])-(1/l)*np.cos(x[0])*(u[0]+k_sp*(x[6])-x[2]-d)\n",
    "    dth2=(g_a/l)*np.sin(x[4])-(1/l)*np.cos(x[4])*(u[1]+k_sp*(x[2])-x[6]+d)\n",
    "    dx1=u[0]+k_sp*(x[6]-x[2]-d)\n",
    "    dx2=u[1]+k_sp*(x[2]-x[6]+d)\n",
    "    return np.array([th1,dth1,x1,dx1, th2,dth2, x2, dx2 ])\n",
    "\n",
    "def f_RK4(x,u):\n",
    "    k1=dt*f(x,u)\n",
    "    k2=dt*f(x+(1/2)*k1,u)\n",
    "    k3=dt*f(x+(1/2)*k2,u)\n",
    "    k4=dt*f(x+k3,u)\n",
    "    return x+(1/6)*(k1+2*k2+2*k3+k4)\n",
    "\n",
    "def f_real(x,u):\n",
    "    rearange=[0,4,  1,5, 2,6,  3,7 ]\n",
    "    u=u[rearange]\n",
    "    for i in range(4):\n",
    "        x=f_RK4(x,u[i*2:i*2+2])\n",
    "    return x"
   ]
  },
  {
   "cell_type": "code",
   "execution_count": 7,
   "id": "d833eb4a",
   "metadata": {},
   "outputs": [],
   "source": [
    "#parameters\n",
    "alpha=0.1  #alpha-pertubation\n",
    "beta=0.    #regularization of Nikaido-Isoda\n",
    "gamma=1    #penealty control\n",
    "b=100      #bounds"
   ]
  },
  {
   "cell_type": "code",
   "execution_count": 8,
   "id": "1d098391",
   "metadata": {},
   "outputs": [],
   "source": [
    "from scipy.optimize import Bounds\n",
    "bounds = Bounds((N)*nu*[-b], (N)*nu*[b])"
   ]
  },
  {
   "cell_type": "code",
   "execution_count": 9,
   "id": "839c1d28",
   "metadata": {},
   "outputs": [],
   "source": [
    "def endcond(u,x_iv):\n",
    "    u=u.reshape((N,nu))\n",
    "    x=x_iv\n",
    "    for k in range(N):\n",
    "        x=A@x+B@u[k] +C\n",
    "    return x-x_ast"
   ]
  },
  {
   "cell_type": "code",
   "execution_count": 10,
   "id": "bf48e63b",
   "metadata": {},
   "outputs": [],
   "source": [
    "nx_p=nx//Nu\n",
    "nu_p=nu//Nu\n",
    "def ell(x,u,i):\n",
    "    res=0.5*np.dot(x[i*nx_p:i*nx_p+nx_p]-x_ast[i*nx_p:i*nx_p+nx_p],x[i*nx_p:i*nx_p+nx_p]-x_ast[i*nx_p:i*nx_p+nx_p])\n",
    "    res+=gamma*0.5*np.dot(u[i*nu_p:i*nu_p+nu_p],u[i*nu_p:i*nu_p+nu_p])\n",
    "    return res"
   ]
  },
  {
   "cell_type": "code",
   "execution_count": 11,
   "id": "1da60e50",
   "metadata": {},
   "outputs": [],
   "source": [
    "def inner_objective(u,x_iv,v):\n",
    "    u=u.reshape((N,nu))\n",
    "    v=v.reshape((N,nu))\n",
    "   #input u in form (N,nu)\n",
    "    su=0\n",
    "    for i in range(Nu):\n",
    "        x=x_iv\n",
    "        contrl=copy.deepcopy(u)\n",
    "        contrl[:,i*nu_p:nu_p+i*nu_p]=v[:,i*nu_p:nu_p+i*nu_p] \n",
    "        for k in range(N):\n",
    "            su+= ell(x,contrl[k],i)\n",
    "            x=A@x+B@contrl[k]+C     \n",
    "    diff=u-v\n",
    "    su+=beta*0.5*np.dot(diff.flatten(),diff.flatten())              \n",
    "    return su"
   ]
  },
  {
   "cell_type": "code",
   "execution_count": 12,
   "id": "48902aa8",
   "metadata": {},
   "outputs": [],
   "source": [
    "K=[matrix_power(A,k)@B for k in range(N)]\n",
    "def inner_objective_jac(u,x_iv,v):\n",
    "    u=u.reshape((N,nu))\n",
    "    v=v.reshape((N,nu))\n",
    "    jac=np.zeros((N,nu))\n",
    "    for i in range(Nu):\n",
    "        x=x_iv\n",
    "        control=copy.deepcopy(u)\n",
    "        control[:,i*nu_p:nu_p+i*nu_p]=v[:,i*nu_p:nu_p+i*nu_p]\n",
    "        for k in range(N):\n",
    "            diff=x[i*nx_p:i*nx_p+nx_p]-x_ast[i*nx_p:i*nx_p+nx_p]\n",
    "            for n in range(0,k):\n",
    "                tmp=diff@K[k-n-1][i*nx_p:i*nx_p+nx_p,i*nu_p:nu_p+i*nu_p]\n",
    "                jac[n,i*nu_p:nu_p+i*nu_p]+=tmp.flatten()\n",
    "            if k <N:\n",
    "                x=A@x+B@control[k]+C     \n",
    "        jac[0:N,i*nu_p:nu_p+i*nu_p]+=gamma*v[0:N,i*nu_p:nu_p+i*nu_p]\n",
    "    jac+=beta*(v-u)    \n",
    "    return jac.reshape(-1)"
   ]
  },
  {
   "cell_type": "code",
   "execution_count": 13,
   "id": "712eebb3",
   "metadata": {},
   "outputs": [],
   "source": [
    "def g(x_iv,u):\n",
    "    obj= lambda v: inner_objective(u,x_iv,v)\n",
    "    jac= lambda v: inner_objective_jac(u,x_iv,v)\n",
    "    v_0=np.zeros(u.shape).flatten()\n",
    "    \n",
    "    solution=minimize(obj,v_0, method=\"L-BFGS-B\", jac=jac,bounds=bounds)\n",
    "    if not solution.success:\n",
    "        print(\"inner\",solution.message)\n",
    "    return solution"
   ]
  },
  {
   "cell_type": "code",
   "execution_count": 14,
   "id": "74e388b0",
   "metadata": {},
   "outputs": [],
   "source": [
    "def objective(x_iv,u):\n",
    "    u=u.reshape((N,nu)) \n",
    "    sec=0\n",
    "    sec=(1-alpha)*g(x_iv,u).fun\n",
    "    \n",
    "    first=0\n",
    "    x=x_iv\n",
    "    for k in range(N):\n",
    "        for i in range(Nu):\n",
    "            first+=ell(x,u[k],i)       \n",
    "        x=A@x+B@u[k]+C \n",
    "    return first-sec"
   ]
  },
  {
   "cell_type": "code",
   "execution_count": 15,
   "id": "fefcf919",
   "metadata": {},
   "outputs": [],
   "source": [
    "K=[matrix_power(A,k)@B for k in range(N)]\n",
    "def objective_jac(x_iv,u):  #only with respect to u\n",
    "    u=u.reshape((N,nu))\n",
    "    jac=np.zeros((N,nu))\n",
    "\n",
    "    #part dependent on u only\n",
    "    contrl=copy.deepcopy(u)\n",
    "    x=copy.deepcopy(x_iv)\n",
    "    for k in range(N):\n",
    "        diff=(x-x_ast).transpose()\n",
    "        for n in range(0,k):\n",
    "            jac[n,:]+=diff@K[k-n-1]\n",
    "        if k <N:\n",
    "            x=A@x+B@contrl[k]+C \n",
    "    jac+=gamma*u\n",
    "    #second part\n",
    "    v=g(x_iv,u).x\n",
    "    v=v.reshape((N,nu))\n",
    "    for i in range(Nu):\n",
    "        x=x_iv\n",
    "        contrl=copy.deepcopy(u)\n",
    "        contrl[:,i*nu_p:nu_p+i*nu_p]=v[:,i*nu_p:nu_p+i*nu_p]\n",
    "        j=1-i\n",
    "        for n in range(N):\n",
    "            diff=(x[i*nx_p:i*nx_p+nx_p]-x_ast[i*nx_p:i*nx_p+nx_p])\n",
    "            for k in range(0,n):\n",
    "                tmp=diff@K[n-k-1][i*nx_p:i*nx_p+nx_p,j*nu_p:nu_p+j*nu_p]\n",
    "                jac[k,j*nu_p:nu_p+j*nu_p]+=-(1-alpha)*tmp\n",
    "            if n<N:\n",
    "                x=A@x+B@contrl[n]+C\n",
    "    jac+=beta*(v-u)            \n",
    "    return jac.reshape(-1)"
   ]
  },
  {
   "cell_type": "code",
   "execution_count": 16,
   "id": "b075e5cd",
   "metadata": {},
   "outputs": [],
   "source": [
    "def addnoise(x,a):\n",
    "    return x+np.random.uniform(low=-a,high=a, size=x.size)\n",
    "def addnoise_fac(x,b):\n",
    "    y=x\n",
    "    for i in range(len(x)):\n",
    "        y[i]=x[i]+np.random.uniform(low=-b*np.abs(x[i]),high=b*np.abs(x[i]))\n",
    "    return y"
   ]
  },
  {
   "cell_type": "code",
   "execution_count": 31,
   "id": "d23b2280",
   "metadata": {},
   "outputs": [],
   "source": [
    "maxIter=100                             #max. iteration\n",
    "x_ivv=np.asarray([np.pi,0,0,0,0,0,d,0]) #inital value\n",
    "noise=0.01                              #noise\n",
    "op={\"maxiter\":1e3}                      #optimization parameter"
   ]
  },
  {
   "cell_type": "code",
   "execution_count": 32,
   "id": "f1f399d2",
   "metadata": {},
   "outputs": [
    {
     "name": "stdout",
     "output_type": "stream",
     "text": [
      "0\n",
      "19371.711500463247\n",
      "14307.007922906716\n",
      "8366.840143094243\n",
      "5040.400866766911\n",
      "2959.9725581426524\n",
      "1785.579514087693\n",
      "1147.9639897028856\n",
      "794.30857629754\n",
      "592.9075599208272\n",
      "480.264552099272\n",
      "10\n",
      "401.2725485466618\n",
      "331.5277024138202\n",
      "262.2048090882049\n",
      "219.88772688204494\n",
      "166.35824458802574\n",
      "112.63959815531126\n",
      "81.1022524368978\n",
      "59.21172826262659\n",
      "35.94565326135347\n",
      "22.350367785783078\n",
      "20\n",
      "14.07576832674701\n",
      "8.371236506317338\n",
      "5.234687581064691\n",
      "3.4815113156403097\n",
      "2.454951739567493\n",
      "1.7059033615323211\n",
      "1.333165585752499\n",
      "1.1488666908373983\n",
      "0.9059183007579901\n",
      "0.76668179939298\n",
      "30\n",
      "0.6563864405607753\n",
      "0.4908168766545087\n",
      "0.42332839821111845\n",
      "0.19718820652436697\n",
      "0.1457665602435444\n",
      "0.09847677461340248\n",
      "0.1037315697628953\n",
      "0.04628893528818109\n",
      "0.04997452038455706\n",
      "0.04193502234714951\n",
      "40\n",
      "0.04374719042710463\n",
      "0.039346443001344\n",
      "0.05286083328868073\n",
      "0.18290440996475796\n",
      "0.016847900340658556\n",
      "0.037795823810245606\n",
      "0.11363647163272197\n",
      "0.18471213121660252\n",
      "0.12947296193072422\n",
      "0.16187734732748266\n",
      "50\n",
      "0.2611931883672685\n",
      "0.13638937941602144\n",
      "0.24206768195632575\n",
      "0.15600836398928847\n",
      "0.22112535711201528\n",
      "0.09542063675640625\n",
      "0.1260915649032558\n",
      "0.08444925508573983\n",
      "0.06255862382016575\n",
      "0.0909711498862305\n",
      "60\n",
      "0.14159169018537884\n",
      "0.25446387016906696\n",
      "0.08964650084513648\n",
      "0.07268162272940806\n",
      "0.07037089657883924\n",
      "0.06317899781206185\n",
      "0.05552098129195346\n",
      "0.04266352018664625\n",
      "0.12440427524811236\n",
      "0.19813795607334106\n",
      "70\n",
      "0.16786789783250716\n",
      "0.029532040248283098\n",
      "0.015126476951923928\n",
      "0.05452401277693916\n",
      "0.005676545581571113\n",
      "0.0012074365842602256\n",
      "0.06182539815815529\n",
      "0.2116921333607962\n",
      "0.20862288364573758\n",
      "0.05237097393232748\n",
      "80\n",
      "0.04401203830449001\n",
      "0.02211523928837754\n",
      "0.04318372319273719\n",
      "0.03827965202403981\n",
      "0.025297846923907567\n",
      "0.06242289278861753\n",
      "0.008026609021185977\n",
      "0.011736017982124022\n",
      "0.09349166485293076\n",
      "0.2025300267573097\n",
      "90\n",
      "0.14882570998813077\n",
      "0.10204877725899264\n",
      "0.04280467473917543\n",
      "0.05028697829967953\n",
      "0.07942816001161679\n",
      "0.08044462764215742\n",
      "0.07490068681344722\n",
      "0.042480871771574114\n",
      "0.05673323439774121\n",
      "0.14011582667353376\n"
     ]
    }
   ],
   "source": [
    "x_iv=x_ivv\n",
    "u_0=np.zeros(N*nu)\n",
    "u_star=[]          #control\n",
    "x_star=[]          #state\n",
    "V=[]               #Lyapunov function\n",
    "x_Last=[]          #state at lookahead horizon\n",
    "x_end=[]           #endcondition\n",
    "x_star.append(x_iv)\n",
    "for i in range(maxIter):\n",
    "    if i%10==0:\n",
    "        print(i)\n",
    "    obj= lambda u: objective(x_iv,u)\n",
    "    jac= lambda u: objective_jac(x_iv,u)\n",
    "    ec= lambda u: endcond(u,x_iv)\n",
    "    end_cond={'type': \"eq\",'fun': ec}\n",
    "    solution=minimize(obj,u_0,method=\"SLSQP\", jac=jac,bounds=bounds, constraints=end_cond)\n",
    "    if not solution.success:\n",
    "        print(i, solution.message, endcond(solution.x, x_iv))\n",
    "    contrl=solution.x\n",
    "    contrl=contrl.reshape((N,nu))\n",
    "    x_last=x_iv\n",
    "    for k in range(N):\n",
    "        x_last=A@x_last +B@contrl[k]+C\n",
    "    x_Last.append(x_last)   \n",
    "    x_end.append(endcond(solution.x, x_iv))   \n",
    "    \n",
    "    V.append(solution.fun)\n",
    "    print(solution.fun)\n",
    "    u_curr=solution.x.reshape((N,nu))[0]\n",
    "    u_star.append(u_curr)\n",
    " \n",
    "    x_iv=A@x_iv+B@u_curr+C\n",
    "    x_iv=addnoise_fac(x_iv, noise)\n",
    " \n",
    "    x_star.append(x_iv)"
   ]
  },
  {
   "cell_type": "code",
   "execution_count": 33,
   "id": "d81e1ebf",
   "metadata": {},
   "outputs": [
    {
     "ename": "FileExistsError",
     "evalue": "[Errno 17] File exists: 'CIP/alpha/'",
     "output_type": "error",
     "traceback": [
      "\u001b[0;31m---------------------------------------------------------------------------\u001b[0m",
      "\u001b[0;31mFileExistsError\u001b[0m                           Traceback (most recent call last)",
      "Input \u001b[0;32mIn [33]\u001b[0m, in \u001b[0;36m<cell line: 3>\u001b[0;34m()\u001b[0m\n\u001b[1;32m      1\u001b[0m \u001b[38;5;28;01mimport\u001b[39;00m \u001b[38;5;21;01mos\u001b[39;00m\n\u001b[1;32m      2\u001b[0m dictname\u001b[38;5;241m=\u001b[39m\u001b[38;5;124m\"\u001b[39m\u001b[38;5;124mCIP/alpha/\u001b[39m\u001b[38;5;124m\"\u001b[39m\n\u001b[0;32m----> 3\u001b[0m \u001b[43mos\u001b[49m\u001b[38;5;241;43m.\u001b[39;49m\u001b[43mmakedirs\u001b[49m\u001b[43m(\u001b[49m\u001b[43mdictname\u001b[49m\u001b[43m)\u001b[49m\n",
      "File \u001b[0;32m~/anaconda3/lib/python3.9/os.py:225\u001b[0m, in \u001b[0;36mmakedirs\u001b[0;34m(name, mode, exist_ok)\u001b[0m\n\u001b[1;32m    223\u001b[0m         \u001b[38;5;28;01mreturn\u001b[39;00m\n\u001b[1;32m    224\u001b[0m \u001b[38;5;28;01mtry\u001b[39;00m:\n\u001b[0;32m--> 225\u001b[0m     \u001b[43mmkdir\u001b[49m\u001b[43m(\u001b[49m\u001b[43mname\u001b[49m\u001b[43m,\u001b[49m\u001b[43m \u001b[49m\u001b[43mmode\u001b[49m\u001b[43m)\u001b[49m\n\u001b[1;32m    226\u001b[0m \u001b[38;5;28;01mexcept\u001b[39;00m \u001b[38;5;167;01mOSError\u001b[39;00m:\n\u001b[1;32m    227\u001b[0m     \u001b[38;5;66;03m# Cannot rely on checking for EEXIST, since the operating system\u001b[39;00m\n\u001b[1;32m    228\u001b[0m     \u001b[38;5;66;03m# could give priority to other errors like EACCES or EROFS\u001b[39;00m\n\u001b[1;32m    229\u001b[0m     \u001b[38;5;28;01mif\u001b[39;00m \u001b[38;5;129;01mnot\u001b[39;00m exist_ok \u001b[38;5;129;01mor\u001b[39;00m \u001b[38;5;129;01mnot\u001b[39;00m path\u001b[38;5;241m.\u001b[39misdir(name):\n",
      "\u001b[0;31mFileExistsError\u001b[0m: [Errno 17] File exists: 'CIP/alpha/'"
     ]
    }
   ],
   "source": [
    "import os\n",
    "dictname=\"CIP/alpha/\"\n",
    "os.makedirs(dictname)"
   ]
  },
  {
   "cell_type": "code",
   "execution_count": 34,
   "id": "ee4550f2",
   "metadata": {},
   "outputs": [],
   "source": [
    "with open(dictname+\"/stats.txt\", \"w\") as file:\n",
    "    file.write(\"alpha=\"+str(alpha))\n",
    "    file.write(\"\\n\")\n",
    "    file.write(\"inital value=\"+str(x_ivv))\n",
    "    file.write(\"\\n\")\n",
    "    file.write(\"N=\"+str(N))\n",
    "    file.write(\"\\n\")\n",
    "    file.write(\"noise=\"+str(noise))\n",
    "    file.write(\"\\n\")\n",
    "    file.write(\"U=[\"+str(-b)+\",\"+str(b)+\"]\")\n",
    "    file.write(\"\\n\")\n",
    "    file.write(\"gamma=\"+str(gamma))\n",
    "    file.write(\"\\n\")\n",
    "    file.write(\"beta=\"+str(beta))\n",
    "    file.write(\"\\n\")\n",
    "    file.write(\"spring=\"+str(k_sp))\n",
    "    file.write(\"\\n\")\n",
    "    file.write(\"rod_length=\"+str(l))"
   ]
  },
  {
   "cell_type": "code",
   "execution_count": 35,
   "id": "509fc326",
   "metadata": {},
   "outputs": [
    {
     "data": {
      "image/png": "[encoded data removed]",
      "text/plain": [
       "<Figure size 432x288 with 1 Axes>"
      ]
     },
     "metadata": {
      "needs_background": "light"
     },
     "output_type": "display_data"
    }
   ],
   "source": [
    "plt.plot(V)\n",
    "plt.title('Optimal Value Function')\n",
    "plt.savefig(\"./\"+dictname+\"/optimalvalue.png\")"
   ]
  },
  {
   "cell_type": "code",
   "execution_count": 36,
   "id": "eb493062",
   "metadata": {},
   "outputs": [
    {
     "data": {
      "image/png": "[encoded data removed]",
      "text/plain": [
       "<Figure size 432x288 with 1 Axes>"
      ]
     },
     "metadata": {
      "needs_background": "light"
     },
     "output_type": "display_data"
    }
   ],
   "source": [
    "X_Last=[x-x_ast for x in x_Last]\n",
    "X_Last=np.asarray(X_Last)\n",
    "Xend=np.asarray(x_end)\n",
    "plt.plot(np.sum(X_Last, axis=1))\n",
    "plt.title(\"Endconstraint\")\n",
    "plt.savefig(\"./\"+dictname+\"/endcond.png\")"
   ]
  },
  {
   "cell_type": "code",
   "execution_count": 37,
   "id": "e1a0e033",
   "metadata": {},
   "outputs": [
    {
     "data": {
      "image/png": "[encoded data removed]",
      "text/plain": [
       "<Figure size 432x288 with 1 Axes>"
      ]
     },
     "metadata": {
      "needs_background": "light"
     },
     "output_type": "display_data"
    }
   ],
   "source": [
    "X_star=np.asarray(x_star)\n",
    "\n",
    "plt.plot(X_star[:,0],\"blue\", label=r\"$\\theta$\")\n",
    "plt.plot(X_star[:,1],\"red\", label=r\"$\\dot{\\theta}_1$\")\n",
    "plt.plot(X_star[:,2],\"green\", label=r\"$x_1$\")\n",
    "plt.plot(X_star[:,3],\"purple\",label=r\"$\\dot{x}_1$\")\n",
    "plt.legend()\n",
    "plt.title(\"First Pendulum\")\n",
    "plt.savefig(\"./\"+dictname+\"/pendlum1.png\")"
   ]
  },
  {
   "cell_type": "code",
   "execution_count": 38,
   "id": "c5ec633e",
   "metadata": {},
   "outputs": [
    {
     "data": {
      "image/png": "[encoded data removed]",
      "text/plain": [
       "<Figure size 432x288 with 1 Axes>"
      ]
     },
     "metadata": {
      "needs_background": "light"
     },
     "output_type": "display_data"
    }
   ],
   "source": [
    "X_star=np.asarray(x_star)\n",
    "\n",
    "plt.plot(X_star[:,4],\"blue\", label=r\"$\\theta$\")\n",
    "plt.plot(X_star[:,5],\"red\", label=r\"$\\dot{\\theta}_1$\")\n",
    "plt.plot(X_star[:,6],\"green\", label=r\"$x_1$\")\n",
    "plt.plot(X_star[:,7],\"purple\",label=r\"$\\dot{x}_1$\")\n",
    "plt.legend()\n",
    "plt.title(\"Second Pendulum\")\n",
    "plt.savefig(\"./\"+dictname+\"/pendlum2.png\")"
   ]
  },
  {
   "cell_type": "code",
   "execution_count": 39,
   "id": "cd0d5e02",
   "metadata": {},
   "outputs": [
    {
     "data": {
      "image/png": "[encoded data removed]",
      "text/plain": [
       "<Figure size 432x288 with 1 Axes>"
      ]
     },
     "metadata": {
      "needs_background": "light"
     },
     "output_type": "display_data"
    }
   ],
   "source": [
    "plt.plot(X_star[:,2],\"blue\")\n",
    "plt.plot(X_star[:,6],\"red\")\n",
    "plt.title('Positions')\n",
    "plt.savefig(\"./\"+dictname+\"/positions.png\")"
   ]
  },
  {
   "cell_type": "code",
   "execution_count": 40,
   "id": "42a97382",
   "metadata": {},
   "outputs": [
    {
     "data": {
      "image/png": "[encoded data removed]",
      "text/plain": [
       "<Figure size 432x288 with 1 Axes>"
      ]
     },
     "metadata": {
      "needs_background": "light"
     },
     "output_type": "display_data"
    }
   ],
   "source": [
    "U_star=np.asarray(u_star)\n",
    "plt.plot(U_star[:,0], label=r\"$u_1$\")\n",
    "plt.plot(U_star[:,1],label=r\"$u_2$\")\n",
    "plt.legend()\n",
    "plt.title('Controls')\n",
    "plt.savefig(\"./\"+dictname+\"/controls.png\")"
   ]
  },
  {
   "cell_type": "code",
   "execution_count": null,
   "id": "c27065a5",
   "metadata": {},
   "outputs": [],
   "source": []
  }
 ],
 "metadata": {
  "kernelspec": {
   "display_name": "Python 3 (ipykernel)",
   "language": "python",
   "name": "python3"
  },
  "language_info": {
   "codemirror_mode": {
    "name": "ipython",
    "version": 3
   },
   "file_extension": ".py",
   "mimetype": "text/x-python",
   "name": "python",
   "nbconvert_exporter": "python",
   "pygments_lexer": "ipython3",
   "version": "3.9.12"
  }
 },
 "nbformat": 4,
 "nbformat_minor": 5
}
