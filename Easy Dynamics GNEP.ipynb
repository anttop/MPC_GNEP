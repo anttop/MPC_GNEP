{
 "cells": [
  {
   "cell_type": "code",
   "execution_count": 1,
   "id": "f0790c20",
   "metadata": {},
   "outputs": [],
   "source": [
    "import numpy as np\n",
    "from scipy.optimize import minimize\n",
    "import matplotlib.pyplot as plt\n",
    "from numpy.linalg import matrix_power\n",
    "import copy"
   ]
  },
  {
   "cell_type": "code",
   "execution_count": 2,
   "id": "5dc64d65",
   "metadata": {},
   "outputs": [],
   "source": [
    "#GNEP governed by completely controllable dynamics\n",
    "#given in time discrete form"
   ]
  },
  {
   "cell_type": "code",
   "execution_count": 3,
   "id": "2ed476af",
   "metadata": {},
   "outputs": [],
   "source": [
    "A=np.array([[1,0],[1,1]])\n",
    "B=np.eye(2)\n",
    "x_ast=np.array([0,0])\n",
    "nx=2\n",
    "nu=2\n",
    "Nu=2\n",
    "sampling_rate=0.1 \n",
    "N=10\n",
    "C=np.asarray([0,0])"
   ]
  },
  {
   "cell_type": "code",
   "execution_count": 4,
   "id": "72150a3e",
   "metadata": {},
   "outputs": [],
   "source": [
    "#parameters\n",
    "alpha=0.\n",
    "beta=10\n",
    "gamma=0 #penality of control\n",
    "b=1\n",
    "def const(k):\n",
    "    if k>0 and k<N:\n",
    "        return 2\n",
    "    else:\n",
    "        return 1"
   ]
  },
  {
   "cell_type": "code",
   "execution_count": 5,
   "id": "265ddf08",
   "metadata": {},
   "outputs": [],
   "source": [
    "from scipy.optimize import Bounds\n",
    "bounds = Bounds(N*nu*[-b], (N)*nu*[b])"
   ]
  },
  {
   "cell_type": "code",
   "execution_count": 6,
   "id": "2f814ce8",
   "metadata": {},
   "outputs": [],
   "source": [
    "def endcond(u,x_iv):\n",
    "    u=u.reshape((N,nu))\n",
    "    x=x_iv\n",
    "    for k in range(N):\n",
    "        x=A@x+B@u[k] +C\n",
    "    return x-x_ast"
   ]
  },
  {
   "cell_type": "code",
   "execution_count": 7,
   "id": "abb38ab2",
   "metadata": {},
   "outputs": [],
   "source": [
    "nx_p=nx//Nu\n",
    "nu_p=nu//Nu\n",
    "def ell(x,i,k):\n",
    "    res=const(k)*0.5*np.dot(x[i*nx_p:i*nx_p+nx_p]-x_ast[i*nx_p:i*nx_p+nx_p],x[i*nx_p:i*nx_p+nx_p]-x_ast[i*nx_p:i*nx_p+nx_p])\n",
    "    return res"
   ]
  },
  {
   "cell_type": "code",
   "execution_count": 8,
   "id": "15d73985",
   "metadata": {},
   "outputs": [],
   "source": [
    "def inner_objective(u,x_iv,v):\n",
    "    u=u.reshape((N,nu))\n",
    "    v=v.reshape((N,nu))\n",
    "   #input u in form (N,nu)\n",
    "    su=0\n",
    "    for i in range(Nu):\n",
    "        x=x_iv\n",
    "        contrl=copy.deepcopy(u)\n",
    "        contrl[:,i]=v[:,i]      \n",
    "        for k in range(N+1):\n",
    "            su+= ell(x,i,k)\n",
    "            if k <N:    \n",
    "                x=A@x+B@contrl[k]+C \n",
    "    diff=u-v\n",
    "    su+=beta*0.5*np.dot(diff.flatten(),diff.flatten())              \n",
    "    return su"
   ]
  },
  {
   "cell_type": "code",
   "execution_count": 9,
   "id": "c7497fc5",
   "metadata": {},
   "outputs": [],
   "source": [
    "K=[ matrix_power(A,k)@B for k in range(N)]\n",
    "def inner_objective_jac(u,x_iv,v):\n",
    "    u=u.reshape((N,nu))\n",
    "    v=v.reshape((N,nu))\n",
    "    jac=np.zeros((N,nu))\n",
    "    for i in range(Nu):\n",
    "        x=x_iv\n",
    "        control=copy.deepcopy(u)\n",
    "        control[:,i]=v[:,i]\n",
    "        for k in range(N+1):\n",
    "            diff=const(k)*(x[i*nx_p:i*nx_p+nx_p]-x_ast[i*nx_p:i*nx_p+nx_p])\n",
    "            for n in range(0,k):\n",
    "                jac[n,i]+=np.dot(diff,K[k-n-1][i*nx_p:i*nx_p+nx_p,i])\n",
    "            if k <N:\n",
    "                x=A@x+B@control[k]+C    \n",
    "    jac+=beta*(v-u)\n",
    "    return jac.reshape(-1)"
   ]
  },
  {
   "cell_type": "code",
   "execution_count": 10,
   "id": "60606845",
   "metadata": {},
   "outputs": [],
   "source": [
    "def g(x_iv,u):\n",
    "    obj= lambda v: inner_objective(u,x_iv,v)\n",
    "    jac= lambda v: inner_objective_jac(u,x_iv,v)\n",
    "    v_0=np.zeros(u.shape).flatten()\n",
    "    \n",
    "    solution=minimize(obj,v_0, method=\"L-BFGS-B\",jac=jac,bounds=bounds)\n",
    "    if not solution.success:\n",
    "        print(\"inner\",solution.message)\n",
    "    return solution"
   ]
  },
  {
   "cell_type": "code",
   "execution_count": 11,
   "id": "4a331396",
   "metadata": {},
   "outputs": [],
   "source": [
    "def objective(x_iv,u):\n",
    "    u=u.reshape((N,nu)) \n",
    "    sec=0\n",
    "    sec=(1-alpha)*g(x_iv,u).fun\n",
    "    \n",
    "    first=0\n",
    "    x=x_iv\n",
    "    for k in range(N+1):\n",
    "        for i in range(Nu):\n",
    "            first+=ell(x,i,k)\n",
    "        if k<N:        \n",
    "            x=A@x+B@u[k]+C \n",
    "        \n",
    "    return first-sec"
   ]
  },
  {
   "cell_type": "code",
   "execution_count": 12,
   "id": "48811d1b",
   "metadata": {},
   "outputs": [],
   "source": [
    "def objective(x_iv,u):\n",
    "    u=u.reshape((N,nu)) \n",
    "    sec=0\n",
    "    sec=(1-alpha)*g(x_iv,u).fun\n",
    "    \n",
    "    first=0\n",
    "    x=x_iv\n",
    "    for k in range(N+1):\n",
    "        for i in range(Nu):\n",
    "            first+=ell(x,i,k)\n",
    "        if k<N:        \n",
    "            x=A@x+B@u[k]+C \n",
    "        \n",
    "    return first-sec"
   ]
  },
  {
   "cell_type": "code",
   "execution_count": 13,
   "id": "6aceed8f",
   "metadata": {},
   "outputs": [],
   "source": [
    "K=[matrix_power(A,k)@B for k in range(N)]\n",
    "def objective_jac(x_iv,u):  #only with respect to u\n",
    "    u=u.reshape((N,nu))\n",
    "    jac=np.zeros((N,nu))\n",
    "\n",
    "    #part dependent on u only\n",
    "    contrl=copy.deepcopy(u)\n",
    "    x=copy.deepcopy(x_iv)\n",
    "    for k in range(N+1):\n",
    "        diff=const(k)*(x-x_ast).transpose()\n",
    "        for n in range(0,k):\n",
    "            jac[n,:]+=diff@K[k-n-1]\n",
    "        if k <N:\n",
    "            x=A@x+B@contrl[k]+C \n",
    "    #part dependent on u and v\n",
    "    v=g(x_iv,u).x\n",
    "    v=v.reshape((N,nu))\n",
    "    for i in range(Nu):\n",
    "        x=x_iv\n",
    "        contrl=copy.deepcopy(u)\n",
    "        contrl[:,i*nu_p:nu_p+i*nu_p]=v[:,i*nu_p:nu_p+i*nu_p]\n",
    "        j=1-i\n",
    "        for n in range(N+1):\n",
    "            diff=const(n)*(x[i*nx_p:i*nx_p+nx_p]-x_ast[i*nx_p:i*nx_p+nx_p]).transpose()\n",
    "            for k in range(0,n):\n",
    "                jac[k,j*nu_p:nu_p+j*nu_p]+=-(1-alpha)*diff@K[n-k-1][i*nx_p:i*nx_p+nx_p,j*nu_p:nu_p+j*nu_p]\n",
    "            if n<N:\n",
    "                x=A@x+B@contrl[n]+C\n",
    "    jac+=beta*(v-u)            \n",
    "    return jac.reshape(-1)  "
   ]
  },
  {
   "cell_type": "code",
   "execution_count": 14,
   "id": "28687387",
   "metadata": {},
   "outputs": [],
   "source": [
    "def addnoise(x,a):\n",
    "    return x+np.random.uniform(low=-a,high=a, size=x.size)\n",
    "def addnoise_fac(x,b):\n",
    "    y=x\n",
    "    for i in range(len(x)):\n",
    "        y[i]=x[i]+np.random.uniform(low=-b*np.abs(x[i]),high=b*np.abs(x[i]))\n",
    "    return y"
   ]
  },
  {
   "cell_type": "code",
   "execution_count": 15,
   "id": "5f5465ed",
   "metadata": {},
   "outputs": [],
   "source": [
    "maxIter=50 #iteration number for MPC\n",
    "x_ivv=np.asarray([-10,20]) #inital value\n",
    "noise=0.01 #noise\n",
    "op={\"maxiter\":1e3} #parameter for optimization"
   ]
  },
  {
   "cell_type": "code",
   "execution_count": 18,
   "id": "0afa0f6a",
   "metadata": {},
   "outputs": [
    {
     "name": "stdout",
     "output_type": "stream",
     "text": [
      "Lyapunov, optimal value, optimal-value with EC, EC\n",
      "0\n",
      "3364.5 0.0 2.7035071774985227 -25.0\n",
      "3713.520539519843 4.547473508864641e-13 2.1664478029802012 -24.428729209173607\n",
      "2 ABNORMAL_TERMINATION_IN_LNSRCH [  0.02581871 -22.94860329]\n",
      "4020.0360971854248 7.23846810615214e-05 2.607292071914344 -22.9227845811444\n",
      "4505.888465617659 3.9108272176235914e-11 1.5402549023947358 -22.10616937155147\n",
      "4867.715888400936 4.361936589702964e-09 0.687009340908844 -21.13570067273301\n",
      "5183.421503267445 5.488863280334044e-06 1.2762371479893773 -20.388802277797666\n",
      "5294.587810833896 2.2372540115611628e-05 4.947753692605147 -19.472773317258653\n",
      "5108.236246860776 0.0005707097125196015 14.216142489877711 -18.165842130979705\n",
      "4791.953196414134 0.0015983467828846187 29.77207056176121 -16.930354376314828\n",
      "4566.643041260631 1.4552007996826433e-05 27.92638058509783 -16.23560015178679\n",
      "10\n",
      "4174.070014685515 4.8481761041330174e-05 20.463879635652575 -15.237590371966872\n",
      "3812.3123922771388 0.00033008097398123937 17.800333874089574 -14.345869010637072\n",
      "3362.7731687270757 0.00029855120283173164 14.668693389083273 -13.137027085684506\n",
      "2945.693861130098 5.094895368529251e-05 11.923113807670916 -11.917358672763319\n",
      "2559.5133982019142 0.00014593448122468544 9.530742370305916 -10.749606327596851\n",
      "2274.4191867615727 0.00018165499886890757 7.8128612385894485 -9.828826568392635\n",
      "1945.9768195606357 0.0004503581949393265 5.9674194530723526 -8.674084460970365\n",
      "1725.509030729522 0.0001557406517349591 4.802756781170274 -7.818807188694739\n",
      "1452.199809425196 0.0002899175856327929 3.461647684681566 -6.722797335341677\n",
      "1233.2073336445699 0.0005824149602631223 2.4819796783748416 -5.762492709392539\n",
      "20\n",
      "1022.7427391701335 0.00019733149338208023 1.6240277586761067 -4.69166289247714\n",
      "816.7794598574208 2.9576382416962588e-05 0.8986306452661665 -3.5572916265185515\n",
      "643.6970733144269 7.649248686902865e-06 0.4237443490081887 -2.473113073893082\n",
      "502.0601141705217 3.673734175890786e-05 0.14582671944850745 -1.4564594774042596\n",
      "383.70019563281744 0.00016605624705334776 0.015180875859641674 -0.48121108701749654\n",
      "291.13083227010725 3.168904129324801e-06 3.237503563013888e-06 -0.005254907557102709\n",
      "209.64836846166665 5.10615729467645e-05 1.0639137428825052e-06 0.02002529779912684\n",
      "146.83089030983862 2.91980725535268e-05 2.8360313990560826e-06 0.006395496907128685\n",
      "96.10347186934207 1.4756300714680037e-06 1.7844790818344336e-06 0.001827167530476844\n",
      "59.23717679448023 1.6389545983486187e-05 4.107196254210521e-06 0.007358698971023469\n",
      "30\n",
      "33.44123708532506 1.6637302948652177e-06 2.8770914966003147e-06 -0.0014717227274018063\n",
      "16.26782018772005 5.817424018061956e-07 3.2954733271139958e-06 0.0002967790144997543\n",
      "6.343396014987391 6.120245865659513e-07 3.6498115596472758e-06 0.0014731729533034778\n",
      "1.619004133321526 1.1597142579589104e-07 6.99524111968941e-07 -0.0007162115014069743\n",
      "0.1768778239720563 7.165826854949042e-07 4.480006825013927e-06 -0.000618295676900237\n",
      "1.614776985460365e-06 9.665808165431616e-08 8.936851088676635e-07 -2.1124047782256297e-05\n",
      "2.8288848304112955e-07 2.1878715308759423e-09 8.807946896310559e-08 -2.8419319907315536e-06\n",
      "2.284719524958867e-08 2.653669195896528e-09 2.4584594865890403e-09 1.3812121496205274e-05\n",
      "1.2487838131922902e-08 1.8427289723202735e-09 6.254288578472688e-09 2.0385003512572373e-05\n",
      "5.731447346368074e-09 6.649473913942324e-10 3.4311469009987676e-09 1.0256801119202409e-05\n",
      "40\n",
      "2.450805785416569e-09 1.934124965634976e-10 3.2249118510941746e-09 3.1421128692453164e-06\n",
      "9.221486054858705e-10 -2.1513954555648915e-11 1.961856651165621e-09 -1.7190866699781143e-06\n",
      "3.245136333960391e-10 -2.169041969455613e-11 1.088520773461649e-09 -4.662506955991862e-06\n",
      "1.413713938808712e-10 -2.3086275026505732e-12 5.819174398773275e-06 -6.173837476590843e-06\n",
      "1.0633161290499311e-10 1.4706768190559952e-11 6.388916538024547e-06 -6.716144832896342e-06\n",
      "1.0779446491104101e-10 2.718726778706842e-11 1.8169032250711359e-09 -5.328236831642578e-06\n",
      "1.1745088960449096e-10 2.997314565677306e-11 8.617693695556105e-06 -5.302188509520531e-06\n",
      "1.143970502857508e-10 2.884582032330539e-11 -8.340767792585023e-11 -4.978199014235865e-06\n",
      "1.0033399348162011e-10 2.597943848301946e-11 -4.815898697298834e-10 -4.48515978340004e-06\n",
      "8.190726788987825e-11 2.2096736724989617e-11 -5.607595496259692e-10 -3.962510719906243e-06\n"
     ]
    }
   ],
   "source": [
    "#MPC loop\n",
    "x_iv=x_ivv\n",
    "u_0=np.zeros(N*nu)\n",
    "u_star=[]\n",
    "x_star=[]\n",
    "V=[]      #optimal-value function\n",
    "V_0=[]    #Lyapunov function\n",
    "V_diff=[] #difference V_0 and V\n",
    "x_Last=[] #state at end of lookahead horizon\n",
    "\n",
    "#we also solve the problem while imposing end-constraints for comparison\n",
    "x_Last_end=[]  #respective terminal state\n",
    "u_diff=[]      #difference solution with and without end constraints\n",
    "x_star.append(x_iv)\n",
    "print(\"Lyapunov,\", \"optimal value,\", 'optimal-value with EC,', \"EC\")\n",
    "for i in range(maxIter):\n",
    "    if i%10==0:\n",
    "        print(i)\n",
    "    obj= lambda u: objective(x_iv,u)\n",
    "    jac= lambda u: objective_jac(x_iv,u)\n",
    "    ec= lambda u: endcond(u,x_iv)\n",
    "    end_cond={'type': \"eq\",'fun': ec}\n",
    "    solution=minimize(obj,u_0,method=\"L-BFGS-B\",jac=jac,bounds=bounds)\n",
    "    #solve problem with end constraints for comparison\n",
    "    solution_end=minimize(obj,u_0,method=\"SLSQP\",jac=jac,constraints=end_cond,bounds=bounds)\n",
    "    if not solution.success:\n",
    "        print(i, solution.message, endcond(solution.x, x_iv))\n",
    "        \n",
    "    contrl=solution.x\n",
    "    contrl=contrl.reshape((N,nu))\n",
    "    contrl_end=solution_end.x\n",
    "    contrl_end=contrl_end.reshape((N,nu))\n",
    "    \n",
    "    x_last=x_iv\n",
    "    for k in range(N):\n",
    "        x_last    =A@x_last +B@contrl[k]+C\n",
    "    x_Last.append(x_last)  \n",
    "    x_last_end=x_iv\n",
    "    for k in range(N):\n",
    "        x_last_end    =A@x_last_end +B@contrl_end[k]+C\n",
    "    x_Last_end.append(x_last_end) \n",
    " \n",
    "\n",
    "    V.append(solution.fun)\n",
    "    V_0.append(inner_objective(solution.x,x_iv,solution.x))\n",
    "    print(V_0[-1], V[-1], solution_end.fun, np.sum(x_Last[-1]-x_ast))\n",
    "    \n",
    "   \n",
    "    V_diff.append(np.abs(solution_end.fun-solution.fun))\n",
    "    u_diff.append(np.linalg.norm(contrl-contrl_end))\n",
    "    u_curr=solution.x.reshape((N,nu))[0]\n",
    "    u_star.append(u_curr)\n",
    "    \n",
    "    x_iv=A@x_iv+B@u_curr+C\n",
    "    x_iv=addnoise_fac(x_iv, noise)\n",
    "  \n",
    "    x_star.append(x_iv)"
   ]
  },
  {
   "cell_type": "code",
   "execution_count": 19,
   "id": "83d4fd1f",
   "metadata": {},
   "outputs": [],
   "source": [
    "import os\n",
    "dictname=\"easy dynamics/zero/\"\n",
    "os.makedirs(dictname)"
   ]
  },
  {
   "cell_type": "code",
   "execution_count": 20,
   "id": "9d28aa97",
   "metadata": {},
   "outputs": [],
   "source": [
    "with open(dictname+\"/stats.txt\", \"w\") as file:\n",
    "    file.write(\"alpha=\"+str(alpha))\n",
    "    file.write(\"\\n\")\n",
    "    file.write(\"inital value=\"+str(x_ivv))\n",
    "    file.write(\"\\n\")\n",
    "    file.write(\"N=\"+str(N))\n",
    "    file.write(\"\\n\")\n",
    "    file.write(\"noise=\"+str(noise))\n",
    "    file.write(\"\\n\")\n",
    "    file.write(\"U=[\"+str(-b)+\",\"+str(b)+\"]\")\n",
    "    file.write(\"\\n\")\n",
    "    file.write(\"gamma=\"+str(gamma))\n",
    "    file.write(\"\\n\")\n",
    "    file.write(\"beta=\"+str(beta))"
   ]
  },
  {
   "cell_type": "code",
   "execution_count": 21,
   "id": "b1cde740",
   "metadata": {},
   "outputs": [
    {
     "data": {
      "image/png": "[encoded data removed]",
      "text/plain": [
       "<Figure size 432x288 with 1 Axes>"
      ]
     },
     "metadata": {
      "needs_background": "light"
     },
     "output_type": "display_data"
    }
   ],
   "source": [
    "plt.plot(V[3:])\n",
    "plt.title('Optimal Value Function')\n",
    "plt.savefig(\"./\"+dictname+\"/optimalvalue.svg\")"
   ]
  },
  {
   "cell_type": "code",
   "execution_count": 22,
   "id": "9126d8d9",
   "metadata": {},
   "outputs": [
    {
     "data": {
      "image/png": "[encoded data removed]",
      "text/plain": [
       "<Figure size 432x288 with 1 Axes>"
      ]
     },
     "metadata": {
      "needs_background": "light"
     },
     "output_type": "display_data"
    }
   ],
   "source": [
    "plt.plot(V_0)\n",
    "plt.title('Lyapunov Function')\n",
    "plt.savefig(\"./\"+dictname+\"/lyapunov.svg\")"
   ]
  },
  {
   "cell_type": "code",
   "execution_count": 24,
   "id": "53b9747a",
   "metadata": {},
   "outputs": [
    {
     "data": {
      "image/png": "[encoded data removed]",
      "text/plain": [
       "<Figure size 432x288 with 1 Axes>"
      ]
     },
     "metadata": {
      "needs_background": "light"
     },
     "output_type": "display_data"
    }
   ],
   "source": [
    "X_Last=[x-x_ast for x in x_Last]\n",
    "X_Last=np.asarray(X_Last)\n",
    "plt.plot(np.sum(X_Last, axis=1))\n",
    "plt.title(\"Endconstraint\")\n",
    "plt.savefig(\"./\"+dictname+\"/endcond.svg\")"
   ]
  },
  {
   "cell_type": "code",
   "execution_count": 25,
   "id": "dd663347",
   "metadata": {},
   "outputs": [
    {
     "data": {
      "image/png": "[encoded data removed]",
      "text/plain": [
       "<Figure size 432x288 with 1 Axes>"
      ]
     },
     "metadata": {
      "needs_background": "light"
     },
     "output_type": "display_data"
    }
   ],
   "source": [
    "X_star=np.asarray(x_star)\n",
    "\n",
    "plt.plot(X_star[:,0],\"blue\", label=r\"$x_1$\")\n",
    "plt.plot(X_star[:,1],\"red\", label=r\"$x_2$\")\n",
    "plt.legend()\n",
    "plt.title(\"State trajectory\")\n",
    "plt.savefig(\"./\"+dictname+\"/state.svg\")"
   ]
  },
  {
   "cell_type": "code",
   "execution_count": 26,
   "id": "51debc55",
   "metadata": {},
   "outputs": [
    {
     "data": {
      "image/png": "[encoded data removed]",
      "text/plain": [
       "<Figure size 432x288 with 1 Axes>"
      ]
     },
     "metadata": {
      "needs_background": "light"
     },
     "output_type": "display_data"
    }
   ],
   "source": [
    "U_star=np.asarray(u_star)\n",
    "plt.plot(U_star[:,0], label=r\"$u_1$\")\n",
    "plt.plot(U_star[:,1],label=r\"$u_2$\")\n",
    "plt.legend()\n",
    "plt.title('Controls')\n",
    "plt.savefig(\"./\"+dictname+\"/controls.svg\")"
   ]
  },
  {
   "cell_type": "code",
   "execution_count": 27,
   "id": "62c268ea",
   "metadata": {},
   "outputs": [
    {
     "data": {
      "image/png": "[encoded data removed]",
      "text/plain": [
       "<Figure size 432x288 with 1 Axes>"
      ]
     },
     "metadata": {
      "needs_background": "light"
     },
     "output_type": "display_data"
    }
   ],
   "source": [
    "plt.plot(V_diff)\n",
    "plt.title('Difference of Optimal Value function with and without endconstraint')\n",
    "plt.savefig(\"./\"+dictname+\"/optimalvalue_diff.svg\")"
   ]
  },
  {
   "cell_type": "code",
   "execution_count": 28,
   "id": "270388e0",
   "metadata": {},
   "outputs": [
    {
     "data": {
      "image/png": "[encoded data removed]",
      "text/plain": [
       "<Figure size 432x288 with 1 Axes>"
      ]
     },
     "metadata": {
      "needs_background": "light"
     },
     "output_type": "display_data"
    }
   ],
   "source": [
    "plt.plot(u_diff)\n",
    "plt.title('Difference of Optimal Controls with and without endconstraint')\n",
    "plt.savefig(\"./\"+dictname+\"/optimal_control_diff.svg\")"
   ]
  },
  {
   "cell_type": "code",
   "execution_count": null,
   "id": "223b02c7",
   "metadata": {},
   "outputs": [],
   "source": []
  }
 ],
 "metadata": {
  "kernelspec": {
   "display_name": "Python 3 (ipykernel)",
   "language": "python",
   "name": "python3"
  },
  "language_info": {
   "codemirror_mode": {
    "name": "ipython",
    "version": 3
   },
   "file_extension": ".py",
   "mimetype": "text/x-python",
   "name": "python",
   "nbconvert_exporter": "python",
   "pygments_lexer": "ipython3",
   "version": "3.9.12"
  }
 },
 "nbformat": 4,
 "nbformat_minor": 5
}
