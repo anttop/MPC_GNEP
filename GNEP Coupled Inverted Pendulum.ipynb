{
 "cells": [
  {
   "cell_type": "code",
   "execution_count": 1,
   "id": "49ccb74d",
   "metadata": {},
   "outputs": [],
   "source": [
    "import numpy as np\n",
    "from scipy.optimize import minimize\n",
    "import matplotlib.pyplot as plt\n",
    "from numpy.linalg import matrix_power\n",
    "import copy"
   ]
  },
  {
   "cell_type": "code",
   "execution_count": 2,
   "id": "c7cf55fb",
   "metadata": {},
   "outputs": [],
   "source": [
    "#GNEP\n",
    "#linearized coupled inverted pendulum"
   ]
  },
  {
   "cell_type": "code",
   "execution_count": 3,
   "id": "a53557b3",
   "metadata": {},
   "outputs": [],
   "source": [
    "# linearized continuous system\n",
    "# theta_1, theta_1',x_1,x_1', theta_2,theta_2', x_2,x_2'\n",
    "g=9.81 #gravity\n",
    "k_sp=1 #spring constante\n",
    "d=3   #length of relaxed spring\n",
    "l=1    #length\n",
    "\n",
    "A=np.array([[0,1,0,0,       0,0,0,0],\n",
    "            [g/l,0,k_sp/l,0,    0,0,-k_sp/l,0],\n",
    "            [0,0,0,1,       0,0,0,0],\n",
    "            [0,0,-k_sp,0,      0,0,k_sp,0],\n",
    "            [0,0,0,0,       0,1,0,0],\n",
    "            [0,0,-k_sp/l,0,       g/l,0,k_sp/l,0],\n",
    "            [0,0,0,0,       0,0,0,1],\n",
    "            [0,0,k_sp,0,       0,0,-k_sp,0]])\n",
    "B=np.array([[0,0],\n",
    "           [-1/l,0],\n",
    "           [0,0],\n",
    "           [1,0],\n",
    "           [0,0],\n",
    "           [0,-1/l],\n",
    "           [0,0],\n",
    "           [0,1]])\n",
    "\n",
    "\n",
    "nx=8 #dimension of state\n",
    "nu=2 #dimension of control (in total)\n",
    "Nu=2 #amount of players\n",
    "sampling_rate=0.1 "
   ]
  },
  {
   "cell_type": "code",
   "execution_count": 4,
   "id": "8af972b2",
   "metadata": {},
   "outputs": [],
   "source": [
    "#stationary state\n",
    "x_ast=np.array([0.0,0.0,0,0.0, 0.0,0.0,d,0.0])\n",
    "N=5 #horizon length"
   ]
  },
  {
   "cell_type": "code",
   "execution_count": 5,
   "id": "7d72cf67",
   "metadata": {},
   "outputs": [],
   "source": [
    "#discretize system via RK4\n",
    "steps = 1\n",
    "dt = sampling_rate/steps\n",
    "\n",
    "C= -A@x_ast\n",
    "\n",
    "A_k1 = A\n",
    "B_k1 = B\n",
    "C_k1= C\n",
    "            \n",
    "A_k2 = A + A@A_k1*(dt/2)\n",
    "B_k2 = A@B_k1*(dt/2) + B\n",
    "C_k2=A@C_k1*(dt/2)+C\n",
    "            \n",
    "A_k3 = A + A @ A_k2*(dt/2)\n",
    "B_k3 = A@B_k2*(dt/2) + B\n",
    "C_k3=A@C_k2*(dt/2)+C\n",
    "            \n",
    "A_k4 = A + A @ A_k3 * dt\n",
    "B_k4 = A@B_k3*dt + B\n",
    "C_k4=A@C_k3*(dt)+C\n",
    "            \n",
    "A_rk4 = (A_k1 + A_k2*2 + A_k3*2 + A_k4)*(dt/6)\n",
    "B_rk4 = (B_k1 + B_k2*2 + B_k3*2 + B_k4)*(dt/6)\n",
    "C_rk4 = (C_k1 + C_k2*2 + C_k3*2 + C_k4)*(dt/6)\n",
    "\n",
    "\n",
    "A_cont=A\n",
    "B_cont=B\n",
    "C_cont=C\n",
    "A = np.eye(nx)   \n",
    "B= np.zeros((nx,nu))\n",
    "C=np.zeros(C.shape)\n",
    "for i in range(steps):\n",
    "    C = C+ A@C_rk4\n",
    "    B = B+ A@B_rk4\n",
    "    A = A+ A@A_rk4   "
   ]
  },
  {
   "cell_type": "code",
   "execution_count": 6,
   "id": "308983f8",
   "metadata": {},
   "outputs": [],
   "source": [
    "#put 4 time steps into one to gurantee controllability in one step\n",
    "#reagrrange such that B=(B_nu, B_{-nu})\n",
    "B1=np.concatenate([matrix_power(A,k)@B[:,0].reshape(-1,1) for k in reversed(range(4))], axis=1)\n",
    "B2=np.concatenate([matrix_power(A,k)@B[:,1].reshape(-1,1) for k in reversed(range(4))], axis=1)\n",
    "B=np.concatenate((B1,B2), axis=1)\n",
    "np.linalg.matrix_rank(B)\n",
    "C=C+A@C+A@A@C+A@A@A@C\n",
    "A=matrix_power(A,4)  \n",
    "nu=4*nu"
   ]
  },
  {
   "cell_type": "code",
   "execution_count": null,
   "id": "489b3957",
   "metadata": {},
   "outputs": [],
   "source": [
    "#discretization of nonlinear dynamics\n",
    "g_a=9.81\n",
    "def f(x,u):\n",
    "    th1=x[1]\n",
    "    th2=x[5]\n",
    "    x1=x[3]\n",
    "    x2=x[7]\n",
    "    \n",
    "    dth1=(g_a/l)*np.sin(x[0])-(1/l)*np.cos(x[0])*(u[0]+k_sp*(x[6])-x[2]-d)\n",
    "    dth2=(g_a/l)*np.sin(x[4])-(1/l)*np.cos(x[4])*(u[1]+k_sp*(x[2])-x[6]+d)\n",
    "    dx1=u[0]+k_sp*(x[6]-x[2]-d)\n",
    "    dx2=u[1]+k_sp*(x[2]-x[6]+d)\n",
    "    return np.array([th1,dth1,x1,dx1, th2,dth2, x2, dx2 ])\n",
    "\n",
    "def f_RK4(x,u):\n",
    "    k1=dt*f(x,u)\n",
    "    k2=dt*f(x+(1/2)*k1,u)\n",
    "    k3=dt*f(x+(1/2)*k2,u)\n",
    "    k4=dt*f(x+k3,u)\n",
    "    return x+(1/6)*(k1+2*k2+2*k3+k4)\n",
    "\n",
    "def f_real(x,u):\n",
    "    rearange=[0,4,  1,5, 2,6,  3,7 ]\n",
    "    u=u[rearange]\n",
    "    for i in range(4):\n",
    "        x=f_RK4(x,u[i*2:i*2+2])\n",
    "    return x"
   ]
  },
  {
   "cell_type": "code",
   "execution_count": 7,
   "id": "99702d0b",
   "metadata": {},
   "outputs": [],
   "source": [
    "#parameters\n",
    "alpha=0 #modification \n",
    "beta=10 #regularization of Nikaido-Isoda function\n",
    "gamma=1 #penalty factor for u\n",
    "b=100   #bounds"
   ]
  },
  {
   "cell_type": "code",
   "execution_count": 8,
   "id": "8e2a9cc2",
   "metadata": {},
   "outputs": [],
   "source": [
    "from scipy.optimize import Bounds\n",
    "bounds = Bounds((N)*nu*[-b], (N)*nu*[b])"
   ]
  },
  {
   "cell_type": "code",
   "execution_count": 9,
   "id": "ae6f7a17",
   "metadata": {},
   "outputs": [],
   "source": [
    "def endcond(u,x_iv):\n",
    "    u=u.reshape((N,nu))\n",
    "    x=x_iv\n",
    "    for k in range(N):\n",
    "        x=A@x+B@u[k] +C\n",
    "    return x-x_ast"
   ]
  },
  {
   "cell_type": "code",
   "execution_count": 10,
   "id": "f9856668",
   "metadata": {},
   "outputs": [],
   "source": [
    "nx_p=nx//Nu\n",
    "nu_p=nu//Nu\n",
    "def ell(x,u,i):\n",
    "    res=0.5*np.dot(x[i*nx_p:i*nx_p+nx_p]-x_ast[i*nx_p:i*nx_p+nx_p],x[i*nx_p:i*nx_p+nx_p]-x_ast[i*nx_p:i*nx_p+nx_p])\n",
    "    res+=gamma*0.5*np.dot(u[i*nu_p:i*nu_p+nu_p],u[i*nu_p:i*nu_p+nu_p])\n",
    "    return res"
   ]
  },
  {
   "cell_type": "code",
   "execution_count": 11,
   "id": "903183a8",
   "metadata": {},
   "outputs": [],
   "source": [
    "def inner_objective(u,x_iv,v):\n",
    "    u=u.reshape((N,nu))\n",
    "    v=v.reshape((N,nu))\n",
    "   #input u in form (N,nu)\n",
    "    su=0\n",
    "    for i in range(Nu):\n",
    "        x=x_iv\n",
    "        contrl=copy.deepcopy(u)\n",
    "        contrl[:,i*nu_p:nu_p+i*nu_p]=v[:,i*nu_p:nu_p+i*nu_p] \n",
    "        for k in range(N):\n",
    "            su+= ell(x,contrl[k],i)\n",
    "            x=A@x+B@contrl[k]+C     \n",
    "    diff=u-v\n",
    "    su+=beta*0.5*np.dot(diff.flatten(),diff.flatten())              \n",
    "    return su"
   ]
  },
  {
   "cell_type": "code",
   "execution_count": 12,
   "id": "28f61fd4",
   "metadata": {},
   "outputs": [],
   "source": [
    "K=[matrix_power(A,k)@B for k in range(N)]\n",
    "def inner_objective_jac(u,x_iv,v):\n",
    "    u=u.reshape((N,nu))\n",
    "    v=v.reshape((N,nu))\n",
    "    jac=np.zeros((N,nu))\n",
    "    for i in range(Nu):\n",
    "        x=x_iv\n",
    "        control=copy.deepcopy(u)\n",
    "        control[:,i*nu_p:nu_p+i*nu_p]=v[:,i*nu_p:nu_p+i*nu_p]\n",
    "        for k in range(N):\n",
    "            diff=x[i*nx_p:i*nx_p+nx_p]-x_ast[i*nx_p:i*nx_p+nx_p]\n",
    "            for n in range(0,k):\n",
    "                tmp=diff@K[k-n-1][i*nx_p:i*nx_p+nx_p,i*nu_p:nu_p+i*nu_p]\n",
    "                jac[n,i*nu_p:nu_p+i*nu_p]+=tmp.flatten()\n",
    "            if k <N:\n",
    "                x=A@x+B@control[k]+C     \n",
    "        jac[:,i*nu_p:nu_p+i*nu_p]+=gamma*v[:,i*nu_p:nu_p+i*nu_p]\n",
    "    jac+=beta*(v-u)    \n",
    "    return jac.reshape(-1)"
   ]
  },
  {
   "cell_type": "code",
   "execution_count": 13,
   "id": "6f4c77b8",
   "metadata": {},
   "outputs": [],
   "source": [
    "def g(x_iv,u):\n",
    "    obj= lambda v: inner_objective(u,x_iv,v)\n",
    "    jac= lambda v: inner_objective_jac(u,x_iv,v)\n",
    "    v_0=np.zeros(u.shape).flatten()\n",
    "    \n",
    "    solution=minimize(obj,v_0, method=\"L-BFGS-B\", jac=jac,bounds=bounds)\n",
    "    if not solution.success:\n",
    "        print(\"inner\",solution.message)\n",
    "    return solution"
   ]
  },
  {
   "cell_type": "code",
   "execution_count": 14,
   "id": "c565ae8d",
   "metadata": {},
   "outputs": [],
   "source": [
    "def objective(x_iv,u):\n",
    "    u=u.reshape((N,nu)) \n",
    "    sec=0\n",
    "    sec=(1-alpha)*g(x_iv,u).fun\n",
    "    \n",
    "    first=0\n",
    "    x=x_iv\n",
    "    for k in range(N):\n",
    "        for i in range(Nu):\n",
    "            first+=ell(x,u[k],i)       \n",
    "        x=A@x+B@u[k]+C \n",
    "    return first-sec"
   ]
  },
  {
   "cell_type": "code",
   "execution_count": 15,
   "id": "70face67",
   "metadata": {},
   "outputs": [],
   "source": [
    "K=[matrix_power(A,k)@B for k in range(N)]\n",
    "def objective_jac(x_iv,u):  #only with respect to u\n",
    "    u=u.reshape((N,nu))\n",
    "    jac=np.zeros((N,nu))\n",
    "\n",
    "    #part dependent on u only\n",
    "    contrl=copy.deepcopy(u)\n",
    "    x=copy.deepcopy(x_iv)\n",
    "    for k in range(N):\n",
    "        diff=(x-x_ast).transpose()\n",
    "        for n in range(0,k):\n",
    "            jac[n,:]+=diff@K[k-n-1]\n",
    "        if k <N:\n",
    "            x=A@x+B@contrl[k]+C \n",
    "\n",
    "    jac+=gamma*u\n",
    "    v=g(x_iv,u).x\n",
    "    v=v.reshape((N,nu))\n",
    "    for i in range(Nu):\n",
    "        x=x_iv\n",
    "        contrl=copy.deepcopy(u)\n",
    "        contrl[:,i*nu_p:nu_p+i*nu_p]=v[:,i*nu_p:nu_p+i*nu_p]\n",
    "        j=1-i\n",
    "        for n in range(N):\n",
    "            diff=(x[i*nx_p:i*nx_p+nx_p]-x_ast[i*nx_p:i*nx_p+nx_p]).transpose()\n",
    "            for k in range(0,n):\n",
    "                jac[k,j*nu_p:nu_p+j*nu_p]+=-(1-alpha)*diff@K[n-k-1][i*nx_p:i*nx_p+nx_p,j*nu_p:nu_p+j*nu_p]\n",
    "            if n<N:\n",
    "                x=A@x+B@contrl[n]+C\n",
    "    jac+=beta*(v-u)            \n",
    "    return jac.reshape(-1)"
   ]
  },
  {
   "cell_type": "code",
   "execution_count": 16,
   "id": "0059186b",
   "metadata": {},
   "outputs": [],
   "source": [
    "def addnoise(x,a):\n",
    "    return x+np.random.uniform(low=-a,high=a, size=x.size)\n",
    "def addnoise_fac(x,b):\n",
    "    y=x\n",
    "    for i in range(len(x)):\n",
    "        y[i]=x[i]+np.random.uniform(low=-b*np.abs(x[i]),high=b*np.abs(x[i]))\n",
    "    return x"
   ]
  },
  {
   "cell_type": "code",
   "execution_count": 19,
   "id": "c58eb1fc",
   "metadata": {},
   "outputs": [],
   "source": [
    "maxIter=100 #max. iterations\n",
    "x_ivv=np.asarray([np.pi,0,0,0,0,0,d,0]) #IV\n",
    "noise=0.00\n",
    "op={\"maxiter\":1e3} #optimization parameters"
   ]
  },
  {
   "cell_type": "code",
   "execution_count": 20,
   "id": "97f0dc97",
   "metadata": {},
   "outputs": [
    {
     "name": "stdout",
     "output_type": "stream",
     "text": [
      "Lyapunov, optimal value, optimal-value with EC, EC\n",
      "0\n",
      "4498.1525070095395 0.0004570839564621565 1856.3077430499907 89.8527722108727\n",
      "1440.7893034866495 2.777000872811186e-06 2895.394926941306 66.21026933961383\n",
      "1490.0252647926131 4.989894932805328e-07 3896.85223889997 59.233703926821974\n",
      "1762.2778366317734 8.890901881386526e-08 4774.2330204957325 57.216153674717155\n",
      "2024.1501703734384 2.1617332322421134e-05 5790.578797888054 56.28515656186375\n",
      "2237.106369167904 1.8061518858303316e-06 7010.295077915958 55.223190345898885\n",
      "2392.4207109531512 3.439498323132284e-05 8268.190220755627 53.660877128741475\n",
      "2502.861725132575 2.3617718397872522e-05 9058.592518881458 51.51986082771017\n",
      "2577.4838733067863 2.6901512228505453e-05 8971.314724967247 48.8463953183941\n",
      "2605.1690901182246 2.1590935830317903e-06 8560.91765659982 45.72970812305786\n",
      "10\n",
      "2565.615771429488 1.0756657502497546e-05 8227.24388685105 42.230217735567365\n",
      "2453.2029096881192 4.957367764291121e-06 7977.977756873079 38.46114316935541\n",
      "2286.359569140388 8.034879101614933e-06 7540.246540058011 34.49391791672088\n",
      "2093.264955568937 4.750150765175931e-06 6746.988744187911 30.390749936190705\n",
      "1891.2253118711776 6.900034804857569e-06 5745.208232509329 26.232942401848188\n",
      "1680.5857539436984 3.7546044495684328e-06 4780.951626909737 22.09543442717572\n",
      "1457.2433052757929 3.082088824157836e-06 3986.681655308872 18.03637696131653\n",
      "1227.308947463255 1.2478914868552238e-05 3333.129152300229 14.096052661484945\n",
      "1008.1056607458264 1.213012069456454e-06 2695.2548722492393 10.334335170598305\n",
      "816.0058874989868 1.3123484450261458e-06 2014.8437123935219 6.787674616854308\n",
      "20\n",
      "655.1680128162916 1.1660798691082164e-06 1368.9825348086506 3.4836925477976965\n",
      "518.7758851881243 6.045728468961897e-07 883.0810843278632 0.4494020549579405\n",
      "399.82298772811066 5.220622938395536e-07 598.597633407383 -2.299760592132654\n",
      "299.21932452947715 3.939338171221607e-07 439.78827844545594 -4.75002764842685\n",
      "223.32135421229145 5.3659851175780204e-06 302.02493813723504 -6.898195352487269\n",
      "175.09396713588606 4.131424020670238e-07 154.9660911798153 -8.729978168887495\n",
      "149.14735873966262 3.876874643538031e-07 52.88626554208497 -10.25578830017032\n",
      "135.58127433293143 6.149826958790072e-07 54.41955121931926 -11.482667442623164\n",
      "127.68153865614235 3.730115878397555e-07 148.06961781791938 -12.42310600263421\n",
      "125.23550858787726 6.392410796252079e-07 260.5761527965951 -13.08923825202208\n",
      "30\n",
      "130.7652674406021 1.6495985732944973e-07 329.1933546376754 -13.496989536676436\n",
      "143.6469872858609 2.619527776914765e-07 354.9700296538954 -13.666530134345992\n",
      "158.64292003085242 4.491134859563317e-07 384.51188744757656 -13.61834543531644\n",
      "169.8028687333455 5.781992911124689e-07 448.74324767359394 -13.374606362296717\n",
      "175.04827235371812 1.7286944853367459e-07 527.8754657419167 -12.956514229173187\n",
      "176.5886018691758 1.654738639444986e-07 575.3262177863971 -12.38807927007814\n",
      "177.2511197989031 2.415020219359576e-07 567.9156852294018 -11.691831704571529\n",
      "177.05497329079967 2.3464755827262707e-07 526.5454740468222 -10.891315885700553\n",
      "173.46927157294755 1.6042378092606668e-07 489.545606824091 -10.008695542666981\n",
      "164.5568266557347 1.4988469843046914e-07 472.32461018700633 -9.063033908597596\n",
      "40\n",
      "151.29089179415863 8.610632562522369e-08 456.6644146457411 -8.075794120357418\n",
      "136.68667198898032 1.6383495449190377e-07 416.6854695710781 -7.0648832831941935\n",
      "123.01018024090921 2.346859986346317e-07 349.3751883523446 -6.047181117761992\n",
      "110.15597809371184 1.9825705521725467e-07 277.38900351457414 -5.038946173791338\n",
      "96.68571146884187 1.2875875654572155e-07 224.5945285705725 -4.054305123088225\n",
      "82.05842200454217 8.286582442451618e-08 193.27166935747914 -3.1052236556302226\n",
      "67.56027520890477 7.607474117321544e-08 166.3169718586821 -2.202077409195571\n",
      "55.123385728131154 9.310242887750064e-08 128.8450069977398 -1.3539499516199425\n",
      "45.53295488147877 1.0659137927859774e-07 84.21414301464267 -0.5680726447796105\n",
      "37.956553089190784 8.403421247749066e-08 48.61803247646924 0.14984699237297727\n",
      "50\n",
      "31.119482305514865 5.147727932808266e-08 32.71853854286337 0.7962713129578209\n",
      "24.699108794798335 2.160448531185466e-08 31.128866081205103 1.3684745011195916\n",
      "19.4771219576713 2.1402264849257335e-08 29.68494110226993 1.8650833564111733\n",
      "16.267704342849065 3.7592609913872366e-08 20.682810393144507 2.2860035545856996\n",
      "14.913518716117352 4.5700057071940137e-08 9.293217112116238 2.632474572126976\n",
      "14.393678387596534 3.4618085358317785e-06 5.720319457717537 2.90408185793879\n",
      "13.80549750289271 1.2023679829553657e-08 13.170342263113355 3.109238594440078\n",
      "13.081078520910323 2.631616158765837e-06 24.685627357835216 3.248721900264653\n",
      "12.769615954321267 1.1729941462590432e-08 31.02959893130162 3.32919071054488\n",
      "13.220059837028963 3.385370916930697e-08 29.956986176972748 3.349586509010644\n",
      "60\n",
      "14.08753424641015 3.132686643425586e-08 27.154340703759658 3.3190585177497463\n",
      "14.676076574251066 2.0588625915252123e-08 28.914817622806027 3.2427499408567972\n",
      "14.60677935184654 8.746798840775227e-09 35.26925192578369 3.1260276675397116\n",
      "14.105118539770604 3.7208018657253206e-06 40.61881853610515 2.9766887121254766\n",
      "13.644945410696865 1.866614240952913e-08 40.2178953237792 2.7964888506305416\n",
      "13.413884050899302 2.759217743175668e-08 34.9878324055133 2.5912642332829083\n",
      "13.143193511298506 2.4786743324511917e-08 29.886623772008477 2.368409949343003\n",
      "12.473110825542703 1.502910151884862e-08 28.349119637327078 2.1322238967148546\n",
      "11.357742837803837 1.7699608019228208e-06 29.068980669093605 1.8901027942857804\n",
      "10.105211894188466 4.3780289189498944e-06 28.144385099089618 1.6428357418650257\n",
      "70\n",
      "9.046336640903466 1.7734537394176186e-08 23.60964723838086 1.3925016186414514\n",
      "8.228973213088725 1.930275317363339e-08 17.39770601920307 1.146602104445308\n",
      "7.435496088265273 3.485270476666358e-06 12.941172702426883 0.9150139856059364\n",
      "6.482187321391619 6.4882064165772135e-09 11.55389849307349 0.6860033298381806\n",
      "5.424383699356194 9.245589556172717e-07 11.408828325493474 0.4694566689193366\n",
      "4.492373720128557 6.723989365298166e-09 9.945381618141099 0.2652292650764816\n",
      "3.8448374194458284 1.0084684642919228e-08 6.645010108583307 0.07820788447062665\n",
      "3.4187621238831225 1.0224290747373743e-08 3.325496796218637 -0.09154756200789227\n",
      "3.0304427382327943 3.987658702353514e-06 1.9473352387387202 -0.24087189386221575\n",
      "2.5819464889418584 2.2038951179581545e-06 2.5511835940206744 -0.37407200145480674\n",
      "80\n",
      "2.1429898790628696 1.0217148327384962e-06 3.42685536466648 -0.4900428393517169\n",
      "1.8479751150998651 3.725324937420282e-09 3.079122277804178 -0.5880452568084908\n",
      "1.7420343623112586 5.74836511724186e-09 1.7124561471587647 -0.6666281260334531\n",
      "1.7291060032598384 1.4024856866967639e-06 0.7407526966354308 -0.7273671706814699\n",
      "1.6801217708458787 3.2337709061636133e-06 1.1170757472382267 -0.7719813583808688\n",
      "1.5600659801401104 7.065979648057663e-07 2.3686224969381264 -0.8014226138572738\n",
      "1.4409014050263922 1.455750053613869e-06 3.224395878848476 -0.8163093480195895\n",
      "1.4010059743064023 3.4636438162038985e-09 3.010570129531388 -0.8175028384886236\n",
      "1.4384074719237454 4.733278031743282e-06 2.245873637242404 -0.8067323281055088\n",
      "1.4731469736337024 5.876394308934607e-07 1.9217155208637529 -0.786393485115483\n",
      "90\n",
      "1.4361720417894503 1.5161439992361636e-06 2.401715470920042 -0.7551631002032525\n",
      "1.3379663493906584 2.3688864270177135e-07 3.118737451207849 -0.7157455115805664\n",
      "1.2414050811767359 1.8195875455262467e-06 3.2793900571126784 -0.6699006262429084\n",
      "1.1914674819181859 4.2177683858835024e-06 2.7213869151698162 -0.6189860584034894\n",
      "1.170810621496966 2.2794008929238885e-06 2.0039797322657016 -0.5646275535058942\n",
      "1.1251427590136631 1.4493379465463363e-06 1.7379501460862947 -0.5070457726663252\n",
      "1.027697738378371 6.738489635171874e-07 1.9566298926109589 -0.44676332556850723\n",
      "0.9053340402939906 2.9074869678513693e-07 2.165110661979913 -0.38568774278512963\n",
      "0.8035745879046738 1.8706091120535007e-06 1.9319652848346927 -0.325127581899078\n",
      "0.7415969692348394 2.8406599569263946e-06 1.338404081827056 -0.2659832577335308\n"
     ]
    }
   ],
   "source": [
    "x_iv=x_ivv\n",
    "u_0=np.zeros(N*nu)\n",
    "u_star=[]  #control\n",
    "x_star=[]  #state\n",
    "V=[]       #optimal value function\n",
    "V_0=[]     #Lyapunov function\n",
    "#we also solve the problem while imposing end-constraints for comparison\n",
    "V_diff=[]  #difference Lyapunov function and same function evaluated at solution of problem where endconstraints where enforced\n",
    "\n",
    "x_Last=[]  #state at end of lookahead horizon\n",
    "x_Last_end=[] #state at end of lookahead horizon if endconstraints are enforced\n",
    "u_diff=[]     #difference controls (with/without end constraints)\n",
    "x_star.append(x_iv)\n",
    "print(\"Lyapunov,\", \"optimal value,\", 'optimal-value with EC,', \"EC\")\n",
    "for i in range(maxIter):\n",
    "    if i%10==0:\n",
    "        print(i)\n",
    "    obj= lambda u: objective(x_iv,u)\n",
    "    jac= lambda u: objective_jac(x_iv,u)\n",
    "    ec= lambda u: endcond(u,x_iv)\n",
    "    end_cond={'type': \"eq\",'fun': ec}\n",
    "    solution=minimize(obj,u_0,method=\"SLSQP\",jac=jac,bounds=bounds)\n",
    "     #solve problem with end constraints for comparison\n",
    "    solution_end=minimize(obj,u_0,method=\"SLSQP\",jac=jac,constraints=end_cond,bounds=bounds)\n",
    "  \n",
    "    if not solution.success:\n",
    "        print(i, solution.message, endcond(solution.x, x_iv))\n",
    "        \n",
    "    contrl=solution.x\n",
    "    contrl=contrl.reshape((N,nu))\n",
    "    contrl_end=solution_end.x\n",
    "    contrl_end=contrl_end.reshape((N,nu))\n",
    "    \n",
    "    x_last=x_iv\n",
    "    for k in range(N):\n",
    "        x_last    =A@x_last +B@contrl[k]+C\n",
    "    x_Last.append(x_last)  \n",
    "    x_last_end=x_iv\n",
    "    for k in range(N):\n",
    "        x_last_end    =A@x_last_end +B@contrl_end[k]+C\n",
    "    x_Last_end.append(x_last_end) \n",
    " \n",
    "\n",
    "    V.append(solution.fun)\n",
    "    V_0.append(inner_objective(solution.x,x_iv,solution.x))\n",
    "    print(V_0[-1], V[-1], solution_end.fun, np.sum(x_Last[-1]-x_ast))\n",
    "    \n",
    "   \n",
    "    V_diff.append(np.abs(solution_end.fun-solution.fun))\n",
    "    u_diff.append(np.linalg.norm(contrl-contrl_end))\n",
    "    u_curr=solution.x.reshape((N,nu))[0]\n",
    "    u_star.append(u_curr)\n",
    " \n",
    "    x_iv=A@x_iv+B@u_curr+C\n",
    "    x_iv=addnoise_fac(x_iv, noise)\n",
    " \n",
    "    x_star.append(x_iv)\n",
    "    u_0=solution.x"
   ]
  },
  {
   "cell_type": "code",
   "execution_count": 21,
   "id": "807182e9",
   "metadata": {},
   "outputs": [],
   "source": [
    "import os\n",
    "dictname=\"CIP/zero\"\n",
    "os.makedirs(dictname)"
   ]
  },
  {
   "cell_type": "code",
   "execution_count": 22,
   "id": "e65f9cbe",
   "metadata": {},
   "outputs": [],
   "source": [
    "with open(dictname+\"/stats.txt\", \"w\") as file:\n",
    "    file.write(\"alpha=\"+str(alpha))\n",
    "    file.write(\"\\n\")\n",
    "    file.write(\"inital value=\"+str(x_ivv))\n",
    "    file.write(\"\\n\")\n",
    "    file.write(\"N=\"+str(N))\n",
    "    file.write(\"\\n\")\n",
    "    file.write(\"noise=\"+str(noise))\n",
    "    file.write(\"\\n\")\n",
    "    file.write(\"U=[\"+str(-b)+\",\"+str(b)+\"]\")\n",
    "    file.write(\"\\n\")\n",
    "    file.write(\"gamma=\"+str(gamma))\n",
    "    file.write(\"\\n\")\n",
    "    file.write(\"beta=\"+str(beta))\n",
    "    file.write(\"\\n\")\n",
    "    file.write(\"spring=\"+str(k_sp))\n",
    "    file.write(\"\\n\")\n",
    "    file.write(\"rod_length=\"+str(l))"
   ]
  },
  {
   "cell_type": "code",
   "execution_count": 23,
   "id": "9ae89314",
   "metadata": {},
   "outputs": [
    {
     "data": {
      "image/png": "[encoded data removed]",
      "text/plain": [
       "<Figure size 432x288 with 1 Axes>"
      ]
     },
     "metadata": {
      "needs_background": "light"
     },
     "output_type": "display_data"
    }
   ],
   "source": [
    "plt.plot(V)\n",
    "plt.title('Optimal Value Function')\n",
    "plt.savefig(\"./\"+dictname+\"/optimalvalue.png\")"
   ]
  },
  {
   "cell_type": "code",
   "execution_count": 24,
   "id": "096633a5",
   "metadata": {},
   "outputs": [
    {
     "data": {
      "image/png": "[encoded data removed]",
      "text/plain": [
       "<Figure size 432x288 with 1 Axes>"
      ]
     },
     "metadata": {
      "needs_background": "light"
     },
     "output_type": "display_data"
    }
   ],
   "source": [
    "plt.plot(V_0)\n",
    "plt.title('Lyapunov Function')\n",
    "plt.savefig(\"./\"+dictname+\"/lyapunov.png\")"
   ]
  },
  {
   "cell_type": "code",
   "execution_count": 26,
   "id": "c2951fe3",
   "metadata": {},
   "outputs": [
    {
     "data": {
      "image/png": "[encoded data removed]",
      "text/plain": [
       "<Figure size 432x288 with 1 Axes>"
      ]
     },
     "metadata": {
      "needs_background": "light"
     },
     "output_type": "display_data"
    }
   ],
   "source": [
    "X_Last=[x-x_ast for x in x_Last]\n",
    "X_Last=np.asarray(X_Last)\n",
    "plt.plot(np.sum(X_Last, axis=1))\n",
    "plt.title(\"Endconstraint\")\n",
    "plt.savefig(\"./\"+dictname+\"/endcond.png\")"
   ]
  },
  {
   "cell_type": "code",
   "execution_count": 27,
   "id": "ed64b694",
   "metadata": {},
   "outputs": [
    {
     "data": {
      "image/png": "[encoded data removed]",
      "text/plain": [
       "<Figure size 432x288 with 1 Axes>"
      ]
     },
     "metadata": {
      "needs_background": "light"
     },
     "output_type": "display_data"
    }
   ],
   "source": [
    "X_star=np.asarray(x_star)\n",
    "\n",
    "plt.plot(X_star[:,0],\"blue\", label=r\"$\\theta$\")\n",
    "plt.plot(X_star[:,1],\"red\", label=r\"$\\dot{\\theta}_1$\")\n",
    "plt.plot(X_star[:,2],\"green\", label=r\"$x_1$\")\n",
    "plt.plot(X_star[:,3],\"purple\",label=r\"$\\dot{x}_1$\")\n",
    "plt.legend()\n",
    "plt.title(\"First Pendulum\")\n",
    "plt.savefig(\"./\"+dictname+\"/pendulum1.png\")"
   ]
  },
  {
   "cell_type": "code",
   "execution_count": 28,
   "id": "86923c89",
   "metadata": {},
   "outputs": [
    {
     "data": {
      "image/png": "[encoded data removed]",
      "text/plain": [
       "<Figure size 432x288 with 1 Axes>"
      ]
     },
     "metadata": {
      "needs_background": "light"
     },
     "output_type": "display_data"
    }
   ],
   "source": [
    "X_star=np.asarray(x_star)\n",
    "\n",
    "plt.plot(X_star[:,4],\"blue\", label=r\"$\\theta$\")\n",
    "plt.plot(X_star[:,5],\"red\", label=r\"$\\dot{\\theta}_1$\")\n",
    "plt.plot(X_star[:,6],\"green\", label=r\"$x_1$\")\n",
    "plt.plot(X_star[:,7],\"purple\",label=r\"$\\dot{x}_1$\")\n",
    "plt.legend()\n",
    "plt.title(\"Second Pendulum\")\n",
    "plt.savefig(\"./\"+dictname+\"/pendulum2.png\")"
   ]
  },
  {
   "cell_type": "code",
   "execution_count": 29,
   "id": "fba66bc9",
   "metadata": {},
   "outputs": [
    {
     "data": {
      "image/png": "[encoded data removed]",
      "text/plain": [
       "<Figure size 432x288 with 1 Axes>"
      ]
     },
     "metadata": {
      "needs_background": "light"
     },
     "output_type": "display_data"
    }
   ],
   "source": [
    "plt.plot(X_star[:,2],\"blue\")\n",
    "plt.plot(X_star[:,6],\"red\")\n",
    "plt.title('Positions')\n",
    "plt.savefig(\"./\"+dictname+\"/positions.png\")"
   ]
  },
  {
   "cell_type": "code",
   "execution_count": 30,
   "id": "3fe318b7",
   "metadata": {},
   "outputs": [
    {
     "data": {
      "image/png": "[encoded data removed]",
      "text/plain": [
       "<Figure size 432x288 with 1 Axes>"
      ]
     },
     "metadata": {
      "needs_background": "light"
     },
     "output_type": "display_data"
    }
   ],
   "source": [
    "U_star=np.asarray(u_star)\n",
    "plt.plot(U_star[:,0], label=r\"$u_1$\")\n",
    "plt.plot(U_star[:,1],label=r\"$u_2$\")\n",
    "plt.legend()\n",
    "plt.title('Controls')\n",
    "plt.savefig(\"./\"+dictname+\"/controls.png\")"
   ]
  }
 ],
 "metadata": {
  "kernelspec": {
   "display_name": "Python 3 (ipykernel)",
   "language": "python",
   "name": "python3"
  },
  "language_info": {
   "codemirror_mode": {
    "name": "ipython",
    "version": 3
   },
   "file_extension": ".py",
   "mimetype": "text/x-python",
   "name": "python",
   "nbconvert_exporter": "python",
   "pygments_lexer": "ipython3",
   "version": "3.9.12"
  }
 },
 "nbformat": 4,
 "nbformat_minor": 5
}
